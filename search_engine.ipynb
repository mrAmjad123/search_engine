{
 "cells": [
  {
   "cell_type": "code",
   "execution_count": 1,
   "id": "ee478222-81d0-480d-b206-57d69581c1bc",
   "metadata": {},
   "outputs": [],
   "source": [
    "import requests"
   ]
  },
  {
   "cell_type": "code",
   "execution_count": 2,
   "id": "b0587c04-7412-47f7-a872-d882318d59af",
   "metadata": {},
   "outputs": [],
   "source": [
    "from bs4 import BeautifulSoup"
   ]
  },
  {
   "cell_type": "code",
   "execution_count": 3,
   "id": "f3d98d9e-37f0-442d-93da-98c1b6c38cbc",
   "metadata": {},
   "outputs": [],
   "source": [
    "url = \"https://courses.analyticsvidhya.com/collections/courses\""
   ]
  },
  {
   "cell_type": "code",
   "execution_count": 6,
   "id": "36020b08-5d69-4712-99d2-b0de970e32aa",
   "metadata": {},
   "outputs": [],
   "source": [
    "response = requests.get(url)\n",
    "soup = BeautifulSoup(response.content, \"html.parser\")"
   ]
  },
  {
   "cell_type": "code",
   "execution_count": 7,
   "id": "2c13e6ff-17a8-494c-9995-f2c153f9aaa9",
   "metadata": {},
   "outputs": [],
   "source": [
    "courses = []"
   ]
  },
  {
   "cell_type": "code",
   "execution_count": 8,
   "id": "89c25d27-47b4-4503-97eb-f35a08ee4aff",
   "metadata": {},
   "outputs": [],
   "source": [
    "for course in soup.find_all('div', class_='course-box'):\n",
    "    title = course.find('h2').text\n",
    "    description = course.find('p').text\n",
    "    courses.append({'title': title, 'description': description})"
   ]
  },
  {
   "cell_type": "code",
   "execution_count": 9,
   "id": "eacfe999-eda6-495e-8ace-5150e6673ea4",
   "metadata": {},
   "outputs": [
    {
     "name": "stdout",
     "output_type": "stream",
     "text": [
      "[]\n"
     ]
    }
   ],
   "source": [
    "print(courses)"
   ]
  },
  {
   "cell_type": "code",
   "execution_count": 12,
   "id": "98639342-3ba6-41af-b7ee-3d8709d2c605",
   "metadata": {},
   "outputs": [
    {
     "name": "stdout",
     "output_type": "stream",
     "text": [
      "Defaulting to user installation because normal site-packages is not writeable\n",
      "Requirement already satisfied: sentence-transformers in c:\\users\\amjad\\appdata\\roaming\\python\\python312\\site-packages (3.2.0)\n",
      "Requirement already satisfied: transformers<5.0.0,>=4.41.0 in c:\\users\\amjad\\appdata\\roaming\\python\\python312\\site-packages (from sentence-transformers) (4.45.2)\n",
      "Requirement already satisfied: tqdm in c:\\users\\amjad\\appdata\\roaming\\python\\python312\\site-packages (from sentence-transformers) (4.66.5)\n",
      "Requirement already satisfied: torch>=1.11.0 in c:\\users\\amjad\\appdata\\roaming\\python\\python312\\site-packages (from sentence-transformers) (2.5.0)\n",
      "Requirement already satisfied: scikit-learn in c:\\users\\amjad\\appdata\\roaming\\python\\python312\\site-packages (from sentence-transformers) (1.5.2)\n",
      "Requirement already satisfied: scipy in c:\\users\\amjad\\appdata\\roaming\\python\\python312\\site-packages (from sentence-transformers) (1.14.1)\n",
      "Requirement already satisfied: huggingface-hub>=0.20.0 in c:\\users\\amjad\\appdata\\roaming\\python\\python312\\site-packages (from sentence-transformers) (0.26.0)\n",
      "Requirement already satisfied: Pillow in c:\\users\\amjad\\appdata\\roaming\\python\\python312\\site-packages (from sentence-transformers) (10.4.0)\n",
      "Requirement already satisfied: filelock in c:\\users\\amjad\\appdata\\roaming\\python\\python312\\site-packages (from huggingface-hub>=0.20.0->sentence-transformers) (3.16.1)\n",
      "Requirement already satisfied: fsspec>=2023.5.0 in c:\\users\\amjad\\appdata\\roaming\\python\\python312\\site-packages (from huggingface-hub>=0.20.0->sentence-transformers) (2024.10.0)\n",
      "Requirement already satisfied: packaging>=20.9 in c:\\users\\amjad\\appdata\\roaming\\python\\python312\\site-packages (from huggingface-hub>=0.20.0->sentence-transformers) (24.1)\n",
      "Requirement already satisfied: pyyaml>=5.1 in c:\\users\\amjad\\appdata\\roaming\\python\\python312\\site-packages (from huggingface-hub>=0.20.0->sentence-transformers) (6.0.2)\n",
      "Requirement already satisfied: requests in c:\\users\\amjad\\appdata\\roaming\\python\\python312\\site-packages (from huggingface-hub>=0.20.0->sentence-transformers) (2.32.3)\n",
      "Requirement already satisfied: typing-extensions>=3.7.4.3 in c:\\users\\amjad\\appdata\\roaming\\python\\python312\\site-packages (from huggingface-hub>=0.20.0->sentence-transformers) (4.12.2)\n",
      "Requirement already satisfied: networkx in c:\\users\\amjad\\appdata\\roaming\\python\\python312\\site-packages (from torch>=1.11.0->sentence-transformers) (3.3)\n",
      "Requirement already satisfied: jinja2 in c:\\users\\amjad\\appdata\\roaming\\python\\python312\\site-packages (from torch>=1.11.0->sentence-transformers) (3.1.4)\n",
      "Requirement already satisfied: setuptools in c:\\users\\amjad\\appdata\\roaming\\python\\python312\\site-packages (from torch>=1.11.0->sentence-transformers) (75.1.0)\n",
      "Requirement already satisfied: sympy==1.13.1 in c:\\users\\amjad\\appdata\\roaming\\python\\python312\\site-packages (from torch>=1.11.0->sentence-transformers) (1.13.1)\n",
      "Requirement already satisfied: mpmath<1.4,>=1.1.0 in c:\\users\\amjad\\appdata\\roaming\\python\\python312\\site-packages (from sympy==1.13.1->torch>=1.11.0->sentence-transformers) (1.3.0)\n",
      "Requirement already satisfied: colorama in c:\\users\\amjad\\appdata\\roaming\\python\\python312\\site-packages (from tqdm->sentence-transformers) (0.4.6)\n",
      "Requirement already satisfied: numpy>=1.17 in c:\\users\\amjad\\appdata\\roaming\\python\\python312\\site-packages (from transformers<5.0.0,>=4.41.0->sentence-transformers) (2.1.1)\n",
      "Requirement already satisfied: regex!=2019.12.17 in c:\\users\\amjad\\appdata\\roaming\\python\\python312\\site-packages (from transformers<5.0.0,>=4.41.0->sentence-transformers) (2024.9.11)\n",
      "Requirement already satisfied: safetensors>=0.4.1 in c:\\users\\amjad\\appdata\\roaming\\python\\python312\\site-packages (from transformers<5.0.0,>=4.41.0->sentence-transformers) (0.4.5)\n",
      "Requirement already satisfied: tokenizers<0.21,>=0.20 in c:\\users\\amjad\\appdata\\roaming\\python\\python312\\site-packages (from transformers<5.0.0,>=4.41.0->sentence-transformers) (0.20.1)\n",
      "Requirement already satisfied: joblib>=1.2.0 in c:\\users\\amjad\\appdata\\roaming\\python\\python312\\site-packages (from scikit-learn->sentence-transformers) (1.4.2)\n",
      "Requirement already satisfied: threadpoolctl>=3.1.0 in c:\\users\\amjad\\appdata\\roaming\\python\\python312\\site-packages (from scikit-learn->sentence-transformers) (3.5.0)\n",
      "Requirement already satisfied: MarkupSafe>=2.0 in c:\\users\\amjad\\appdata\\roaming\\python\\python312\\site-packages (from jinja2->torch>=1.11.0->sentence-transformers) (2.1.5)\n",
      "Requirement already satisfied: charset-normalizer<4,>=2 in c:\\users\\amjad\\appdata\\roaming\\python\\python312\\site-packages (from requests->huggingface-hub>=0.20.0->sentence-transformers) (3.3.2)\n",
      "Requirement already satisfied: idna<4,>=2.5 in c:\\users\\amjad\\appdata\\roaming\\python\\python312\\site-packages (from requests->huggingface-hub>=0.20.0->sentence-transformers) (3.10)\n",
      "Requirement already satisfied: urllib3<3,>=1.21.1 in c:\\users\\amjad\\appdata\\roaming\\python\\python312\\site-packages (from requests->huggingface-hub>=0.20.0->sentence-transformers) (2.2.3)\n",
      "Requirement already satisfied: certifi>=2017.4.17 in c:\\users\\amjad\\appdata\\roaming\\python\\python312\\site-packages (from requests->huggingface-hub>=0.20.0->sentence-transformers) (2024.8.30)\n"
     ]
    }
   ],
   "source": [
    "!pip install sentence-transformers"
   ]
  },
  {
   "cell_type": "code",
   "execution_count": 14,
   "id": "32673779-468d-4076-b7f4-00ca434151e4",
   "metadata": {},
   "outputs": [],
   "source": [
    "from sentence_transformers import SentenceTransformer"
   ]
  },
  {
   "cell_type": "code",
   "execution_count": 15,
   "id": "cfc3f2f2-1c2a-4cd1-84e7-313b9e8add7d",
   "metadata": {},
   "outputs": [
    {
     "data": {
      "application/vnd.jupyter.widget-view+json": {
       "model_id": "402b433afcb74314adb488add56cfc0f",
       "version_major": 2,
       "version_minor": 0
      },
      "text/plain": [
       "modules.json:   0%|          | 0.00/349 [00:00<?, ?B/s]"
      ]
     },
     "metadata": {},
     "output_type": "display_data"
    },
    {
     "name": "stderr",
     "output_type": "stream",
     "text": [
      "C:\\Users\\amjad\\AppData\\Roaming\\Python\\Python312\\site-packages\\huggingface_hub\\file_download.py:139: UserWarning: `huggingface_hub` cache-system uses symlinks by default to efficiently store duplicated files but your machine does not support them in C:\\Users\\amjad\\.cache\\huggingface\\hub\\models--sentence-transformers--all-MiniLM-L6-v2. Caching files will still work but in a degraded version that might require more space on your disk. This warning can be disabled by setting the `HF_HUB_DISABLE_SYMLINKS_WARNING` environment variable. For more details, see https://huggingface.co/docs/huggingface_hub/how-to-cache#limitations.\n",
      "To support symlinks on Windows, you either need to activate Developer Mode or to run Python as an administrator. In order to activate developer mode, see this article: https://docs.microsoft.com/en-us/windows/apps/get-started/enable-your-device-for-development\n",
      "  warnings.warn(message)\n"
     ]
    },
    {
     "data": {
      "application/vnd.jupyter.widget-view+json": {
       "model_id": "9f0499bf5eac411284efc877f0897acf",
       "version_major": 2,
       "version_minor": 0
      },
      "text/plain": [
       "config_sentence_transformers.json:   0%|          | 0.00/116 [00:00<?, ?B/s]"
      ]
     },
     "metadata": {},
     "output_type": "display_data"
    },
    {
     "data": {
      "application/vnd.jupyter.widget-view+json": {
       "model_id": "3affbf627d6544d58a1119179f2f16f6",
       "version_major": 2,
       "version_minor": 0
      },
      "text/plain": [
       "README.md:   0%|          | 0.00/10.7k [00:00<?, ?B/s]"
      ]
     },
     "metadata": {},
     "output_type": "display_data"
    },
    {
     "data": {
      "application/vnd.jupyter.widget-view+json": {
       "model_id": "93f7a5329e464ae886716ee47beeb1f4",
       "version_major": 2,
       "version_minor": 0
      },
      "text/plain": [
       "sentence_bert_config.json:   0%|          | 0.00/53.0 [00:00<?, ?B/s]"
      ]
     },
     "metadata": {},
     "output_type": "display_data"
    },
    {
     "data": {
      "application/vnd.jupyter.widget-view+json": {
       "model_id": "bb2a2da2b6fc43d683dbf3369a8c7925",
       "version_major": 2,
       "version_minor": 0
      },
      "text/plain": [
       "config.json:   0%|          | 0.00/612 [00:00<?, ?B/s]"
      ]
     },
     "metadata": {},
     "output_type": "display_data"
    },
    {
     "data": {
      "application/vnd.jupyter.widget-view+json": {
       "model_id": "1ee11e594d224a6791a5b8e50089e055",
       "version_major": 2,
       "version_minor": 0
      },
      "text/plain": [
       "model.safetensors:   0%|          | 0.00/90.9M [00:00<?, ?B/s]"
      ]
     },
     "metadata": {},
     "output_type": "display_data"
    },
    {
     "data": {
      "application/vnd.jupyter.widget-view+json": {
       "model_id": "83effb44cb7541c7bf7f467ce64dba9c",
       "version_major": 2,
       "version_minor": 0
      },
      "text/plain": [
       "tokenizer_config.json:   0%|          | 0.00/350 [00:00<?, ?B/s]"
      ]
     },
     "metadata": {},
     "output_type": "display_data"
    },
    {
     "data": {
      "application/vnd.jupyter.widget-view+json": {
       "model_id": "0d2c6706080248cba1eecf84008ad8cf",
       "version_major": 2,
       "version_minor": 0
      },
      "text/plain": [
       "vocab.txt:   0%|          | 0.00/232k [00:00<?, ?B/s]"
      ]
     },
     "metadata": {},
     "output_type": "display_data"
    },
    {
     "data": {
      "application/vnd.jupyter.widget-view+json": {
       "model_id": "028b2fbac5834b14a066fc6ca31e0103",
       "version_major": 2,
       "version_minor": 0
      },
      "text/plain": [
       "tokenizer.json:   0%|          | 0.00/466k [00:00<?, ?B/s]"
      ]
     },
     "metadata": {},
     "output_type": "display_data"
    },
    {
     "data": {
      "application/vnd.jupyter.widget-view+json": {
       "model_id": "a891ae60b59d4385bfb7e66a9204dbf0",
       "version_major": 2,
       "version_minor": 0
      },
      "text/plain": [
       "special_tokens_map.json:   0%|          | 0.00/112 [00:00<?, ?B/s]"
      ]
     },
     "metadata": {},
     "output_type": "display_data"
    },
    {
     "data": {
      "application/vnd.jupyter.widget-view+json": {
       "model_id": "0ca7c0dd03e241d58aefdcfe4d204a4c",
       "version_major": 2,
       "version_minor": 0
      },
      "text/plain": [
       "1_Pooling/config.json:   0%|          | 0.00/190 [00:00<?, ?B/s]"
      ]
     },
     "metadata": {},
     "output_type": "display_data"
    }
   ],
   "source": [
    "model = SentenceTransformer('all-MiniLM-L6-v2')"
   ]
  },
  {
   "cell_type": "code",
   "execution_count": 16,
   "id": "15da44d6-d4bc-436f-95b8-78734916a34b",
   "metadata": {},
   "outputs": [],
   "source": [
    "courses = [\n",
    "    {\"title\": \"Introduction to Data Science\", \"description\": \"Learn the basics of data science.\"},\n",
    "    {\"title\": \"Python for Data Analysis\", \"description\": \"Master Python for data analysis.\"}\n",
    "]\n"
   ]
  },
  {
   "cell_type": "code",
   "execution_count": 17,
   "id": "ab458323-edf5-4c91-b908-c32ab006da76",
   "metadata": {},
   "outputs": [
    {
     "name": "stdout",
     "output_type": "stream",
     "text": [
      "[{'title': 'Introduction to Data Science', 'description': 'Learn the basics of data science.'}, {'title': 'Python for Data Analysis', 'description': 'Master Python for data analysis.'}]\n"
     ]
    }
   ],
   "source": [
    "print(courses)"
   ]
  },
  {
   "cell_type": "code",
   "execution_count": 18,
   "id": "a0d03117-81a5-42a1-8a88-44c1da0b45af",
   "metadata": {},
   "outputs": [],
   "source": [
    "course_texts = [course['title'] + \" \" + course['description'] for course in courses]\n",
    "course_embeddings = model.encode(course_texts)"
   ]
  },
  {
   "cell_type": "code",
   "execution_count": 19,
   "id": "d4b1243c-7e20-49e7-b1f2-270fe8dfa3c0",
   "metadata": {},
   "outputs": [
    {
     "name": "stdout",
     "output_type": "stream",
     "text": [
      "(2, 384)\n"
     ]
    }
   ],
   "source": [
    "print(course_embeddings.shape)"
   ]
  },
  {
   "cell_type": "code",
   "execution_count": 20,
   "id": "5f17404d-6c81-49ad-b453-d688cd7d8a02",
   "metadata": {},
   "outputs": [
    {
     "name": "stdout",
     "output_type": "stream",
     "text": [
      "Defaulting to user installation because normal site-packages is not writeable\n",
      "Requirement already satisfied: numpy in c:\\users\\amjad\\appdata\\roaming\\python\\python312\\site-packages (2.1.1)\n",
      "Requirement already satisfied: scikit-learn in c:\\users\\amjad\\appdata\\roaming\\python\\python312\\site-packages (1.5.2)\n",
      "Requirement already satisfied: scipy>=1.6.0 in c:\\users\\amjad\\appdata\\roaming\\python\\python312\\site-packages (from scikit-learn) (1.14.1)\n",
      "Requirement already satisfied: joblib>=1.2.0 in c:\\users\\amjad\\appdata\\roaming\\python\\python312\\site-packages (from scikit-learn) (1.4.2)\n",
      "Requirement already satisfied: threadpoolctl>=3.1.0 in c:\\users\\amjad\\appdata\\roaming\\python\\python312\\site-packages (from scikit-learn) (3.5.0)\n"
     ]
    }
   ],
   "source": [
    "!pip install numpy scikit-learn"
   ]
  },
  {
   "cell_type": "code",
   "execution_count": 21,
   "id": "011bca5a-ff01-46f5-9c62-db61e41855d9",
   "metadata": {},
   "outputs": [],
   "source": [
    "import numpy as np\n",
    "from sklearn.metrics.pairwise import cosine_similarity"
   ]
  },
  {
   "cell_type": "code",
   "execution_count": 22,
   "id": "e3a0b7ac-efab-4403-ad81-9e14229cf21c",
   "metadata": {},
   "outputs": [],
   "source": [
    "query = \"Learn data science basics\"\n",
    "query_embedding = model.encode([query])"
   ]
  },
  {
   "cell_type": "code",
   "execution_count": 23,
   "id": "a6f0d8d1-89a6-4bd7-bbdf-b7b53a1b3e50",
   "metadata": {},
   "outputs": [],
   "source": [
    "similarity_scores = cosine_similarity(query_embedding, course_embeddings)"
   ]
  },
  {
   "cell_type": "code",
   "execution_count": 24,
   "id": "20c47b18-b4b5-468b-9e3d-590c111ab201",
   "metadata": {},
   "outputs": [],
   "source": [
    "most_similar_idx = np.argmax(similarity_scores)"
   ]
  },
  {
   "cell_type": "code",
   "execution_count": 25,
   "id": "4f1971fb-4296-4a11-ba46-2bcbdf573e0e",
   "metadata": {},
   "outputs": [
    {
     "name": "stdout",
     "output_type": "stream",
     "text": [
      "Most relevant course: Introduction to Data Science\n"
     ]
    }
   ],
   "source": [
    "print(f\"Most relevant course: {courses[most_similar_idx]['title']}\")"
   ]
  },
  {
   "cell_type": "code",
   "execution_count": 26,
   "id": "32353f63-c2b4-4dc9-b0e4-36cd73a2b90d",
   "metadata": {},
   "outputs": [
    {
     "name": "stdout",
     "output_type": "stream",
     "text": [
      "Defaulting to user installation because normal site-packages is not writeable\n",
      "Collecting gradio\n",
      "  Downloading gradio-5.1.0-py3-none-any.whl.metadata (15 kB)\n",
      "Collecting aiofiles<24.0,>=22.0 (from gradio)\n",
      "  Downloading aiofiles-23.2.1-py3-none-any.whl.metadata (9.7 kB)\n",
      "Requirement already satisfied: anyio<5.0,>=3.0 in c:\\users\\amjad\\appdata\\roaming\\python\\python312\\site-packages (from gradio) (4.6.0)\n",
      "Collecting fastapi<1.0 (from gradio)\n",
      "  Downloading fastapi-0.115.2-py3-none-any.whl.metadata (27 kB)\n",
      "Collecting ffmpy (from gradio)\n",
      "  Downloading ffmpy-0.4.0-py3-none-any.whl.metadata (2.9 kB)\n",
      "Collecting gradio-client==1.4.0 (from gradio)\n",
      "  Downloading gradio_client-1.4.0-py3-none-any.whl.metadata (7.1 kB)\n",
      "Requirement already satisfied: httpx>=0.24.1 in c:\\users\\amjad\\appdata\\roaming\\python\\python312\\site-packages (from gradio) (0.27.2)\n",
      "Requirement already satisfied: huggingface-hub>=0.25.1 in c:\\users\\amjad\\appdata\\roaming\\python\\python312\\site-packages (from gradio) (0.26.0)\n",
      "Requirement already satisfied: jinja2<4.0 in c:\\users\\amjad\\appdata\\roaming\\python\\python312\\site-packages (from gradio) (3.1.4)\n",
      "Requirement already satisfied: markupsafe~=2.0 in c:\\users\\amjad\\appdata\\roaming\\python\\python312\\site-packages (from gradio) (2.1.5)\n",
      "Requirement already satisfied: numpy<3.0,>=1.0 in c:\\users\\amjad\\appdata\\roaming\\python\\python312\\site-packages (from gradio) (2.1.1)\n",
      "Collecting orjson~=3.0 (from gradio)\n",
      "  Downloading orjson-3.10.9-cp312-none-win_amd64.whl.metadata (51 kB)\n",
      "Requirement already satisfied: packaging in c:\\users\\amjad\\appdata\\roaming\\python\\python312\\site-packages (from gradio) (24.1)\n",
      "Requirement already satisfied: pandas<3.0,>=1.0 in c:\\users\\amjad\\appdata\\roaming\\python\\python312\\site-packages (from gradio) (2.2.3)\n",
      "Requirement already satisfied: pillow<11.0,>=8.0 in c:\\users\\amjad\\appdata\\roaming\\python\\python312\\site-packages (from gradio) (10.4.0)\n",
      "Collecting pydantic>=2.0 (from gradio)\n",
      "  Downloading pydantic-2.9.2-py3-none-any.whl.metadata (149 kB)\n",
      "Collecting pydub (from gradio)\n",
      "  Downloading pydub-0.25.1-py2.py3-none-any.whl.metadata (1.4 kB)\n",
      "Collecting python-multipart>=0.0.9 (from gradio)\n",
      "  Downloading python_multipart-0.0.12-py3-none-any.whl.metadata (1.9 kB)\n",
      "Requirement already satisfied: pyyaml<7.0,>=5.0 in c:\\users\\amjad\\appdata\\roaming\\python\\python312\\site-packages (from gradio) (6.0.2)\n",
      "Collecting ruff>=0.2.2 (from gradio)\n",
      "  Downloading ruff-0.7.0-py3-none-win_amd64.whl.metadata (25 kB)\n",
      "Collecting semantic-version~=2.0 (from gradio)\n",
      "  Downloading semantic_version-2.10.0-py2.py3-none-any.whl.metadata (9.7 kB)\n",
      "Collecting tomlkit==0.12.0 (from gradio)\n",
      "  Downloading tomlkit-0.12.0-py3-none-any.whl.metadata (2.7 kB)\n",
      "Collecting typer<1.0,>=0.12 (from gradio)\n",
      "  Downloading typer-0.12.5-py3-none-any.whl.metadata (15 kB)\n",
      "Requirement already satisfied: typing-extensions~=4.0 in c:\\users\\amjad\\appdata\\roaming\\python\\python312\\site-packages (from gradio) (4.12.2)\n",
      "Collecting uvicorn>=0.14.0 (from gradio)\n",
      "  Downloading uvicorn-0.32.0-py3-none-any.whl.metadata (6.6 kB)\n",
      "Requirement already satisfied: fsspec in c:\\users\\amjad\\appdata\\roaming\\python\\python312\\site-packages (from gradio-client==1.4.0->gradio) (2024.10.0)\n",
      "Collecting websockets<13.0,>=10.0 (from gradio-client==1.4.0->gradio)\n",
      "  Downloading websockets-12.0-cp312-cp312-win_amd64.whl.metadata (6.8 kB)\n",
      "Requirement already satisfied: idna>=2.8 in c:\\users\\amjad\\appdata\\roaming\\python\\python312\\site-packages (from anyio<5.0,>=3.0->gradio) (3.10)\n",
      "Requirement already satisfied: sniffio>=1.1 in c:\\users\\amjad\\appdata\\roaming\\python\\python312\\site-packages (from anyio<5.0,>=3.0->gradio) (1.3.1)\n",
      "Collecting starlette<0.41.0,>=0.37.2 (from fastapi<1.0->gradio)\n",
      "  Downloading starlette-0.40.0-py3-none-any.whl.metadata (6.0 kB)\n",
      "Requirement already satisfied: certifi in c:\\users\\amjad\\appdata\\roaming\\python\\python312\\site-packages (from httpx>=0.24.1->gradio) (2024.8.30)\n",
      "Requirement already satisfied: httpcore==1.* in c:\\users\\amjad\\appdata\\roaming\\python\\python312\\site-packages (from httpx>=0.24.1->gradio) (1.0.5)\n",
      "Requirement already satisfied: h11<0.15,>=0.13 in c:\\users\\amjad\\appdata\\roaming\\python\\python312\\site-packages (from httpcore==1.*->httpx>=0.24.1->gradio) (0.14.0)\n",
      "Requirement already satisfied: filelock in c:\\users\\amjad\\appdata\\roaming\\python\\python312\\site-packages (from huggingface-hub>=0.25.1->gradio) (3.16.1)\n",
      "Requirement already satisfied: requests in c:\\users\\amjad\\appdata\\roaming\\python\\python312\\site-packages (from huggingface-hub>=0.25.1->gradio) (2.32.3)\n",
      "Requirement already satisfied: tqdm>=4.42.1 in c:\\users\\amjad\\appdata\\roaming\\python\\python312\\site-packages (from huggingface-hub>=0.25.1->gradio) (4.66.5)\n",
      "Requirement already satisfied: python-dateutil>=2.8.2 in c:\\users\\amjad\\appdata\\roaming\\python\\python312\\site-packages (from pandas<3.0,>=1.0->gradio) (2.9.0.post0)\n",
      "Requirement already satisfied: pytz>=2020.1 in c:\\users\\amjad\\appdata\\roaming\\python\\python312\\site-packages (from pandas<3.0,>=1.0->gradio) (2024.2)\n",
      "Requirement already satisfied: tzdata>=2022.7 in c:\\users\\amjad\\appdata\\roaming\\python\\python312\\site-packages (from pandas<3.0,>=1.0->gradio) (2024.1)\n",
      "Collecting annotated-types>=0.6.0 (from pydantic>=2.0->gradio)\n",
      "  Downloading annotated_types-0.7.0-py3-none-any.whl.metadata (15 kB)\n",
      "Collecting pydantic-core==2.23.4 (from pydantic>=2.0->gradio)\n",
      "  Downloading pydantic_core-2.23.4-cp312-none-win_amd64.whl.metadata (6.7 kB)\n",
      "Requirement already satisfied: click>=8.0.0 in c:\\users\\amjad\\appdata\\roaming\\python\\python312\\site-packages (from typer<1.0,>=0.12->gradio) (8.1.7)\n",
      "Collecting shellingham>=1.3.0 (from typer<1.0,>=0.12->gradio)\n",
      "  Downloading shellingham-1.5.4-py2.py3-none-any.whl.metadata (3.5 kB)\n",
      "Collecting rich>=10.11.0 (from typer<1.0,>=0.12->gradio)\n",
      "  Downloading rich-13.9.2-py3-none-any.whl.metadata (18 kB)\n",
      "Requirement already satisfied: colorama in c:\\users\\amjad\\appdata\\roaming\\python\\python312\\site-packages (from click>=8.0.0->typer<1.0,>=0.12->gradio) (0.4.6)\n",
      "Requirement already satisfied: six>=1.5 in c:\\users\\amjad\\appdata\\roaming\\python\\python312\\site-packages (from python-dateutil>=2.8.2->pandas<3.0,>=1.0->gradio) (1.16.0)\n",
      "Collecting markdown-it-py>=2.2.0 (from rich>=10.11.0->typer<1.0,>=0.12->gradio)\n",
      "  Downloading markdown_it_py-3.0.0-py3-none-any.whl.metadata (6.9 kB)\n",
      "Requirement already satisfied: pygments<3.0.0,>=2.13.0 in c:\\users\\amjad\\appdata\\roaming\\python\\python312\\site-packages (from rich>=10.11.0->typer<1.0,>=0.12->gradio) (2.18.0)\n",
      "Requirement already satisfied: charset-normalizer<4,>=2 in c:\\users\\amjad\\appdata\\roaming\\python\\python312\\site-packages (from requests->huggingface-hub>=0.25.1->gradio) (3.3.2)\n",
      "Requirement already satisfied: urllib3<3,>=1.21.1 in c:\\users\\amjad\\appdata\\roaming\\python\\python312\\site-packages (from requests->huggingface-hub>=0.25.1->gradio) (2.2.3)\n",
      "Collecting mdurl~=0.1 (from markdown-it-py>=2.2.0->rich>=10.11.0->typer<1.0,>=0.12->gradio)\n",
      "  Downloading mdurl-0.1.2-py3-none-any.whl.metadata (1.6 kB)\n",
      "Downloading gradio-5.1.0-py3-none-any.whl (42.3 MB)\n",
      "   ---------------------------------------- 0.0/42.3 MB ? eta -:--:--\n",
      "   ---------------------------------------- 0.3/42.3 MB ? eta -:--:--\n",
      "   ---------------------------------------- 0.5/42.3 MB 1.9 MB/s eta 0:00:23\n",
      "    --------------------------------------- 1.0/42.3 MB 1.7 MB/s eta 0:00:24\n",
      "   - -------------------------------------- 1.3/42.3 MB 1.8 MB/s eta 0:00:24\n",
      "   - -------------------------------------- 1.8/42.3 MB 1.8 MB/s eta 0:00:23\n",
      "   - -------------------------------------- 2.1/42.3 MB 1.9 MB/s eta 0:00:22\n",
      "   -- ------------------------------------- 2.4/42.3 MB 1.8 MB/s eta 0:00:22\n",
      "   -- ------------------------------------- 2.9/42.3 MB 1.8 MB/s eta 0:00:22\n",
      "   -- ------------------------------------- 3.1/42.3 MB 1.8 MB/s eta 0:00:22\n",
      "   --- ------------------------------------ 3.4/42.3 MB 1.7 MB/s eta 0:00:23\n",
      "   --- ------------------------------------ 3.7/42.3 MB 1.7 MB/s eta 0:00:23\n",
      "   --- ------------------------------------ 4.2/42.3 MB 1.7 MB/s eta 0:00:23\n",
      "   ---- ----------------------------------- 4.5/42.3 MB 1.7 MB/s eta 0:00:23\n",
      "   ---- ----------------------------------- 4.7/42.3 MB 1.6 MB/s eta 0:00:23\n",
      "   ---- ----------------------------------- 5.0/42.3 MB 1.7 MB/s eta 0:00:23\n",
      "   ---- ----------------------------------- 5.2/42.3 MB 1.7 MB/s eta 0:00:23\n",
      "   ----- ---------------------------------- 5.5/42.3 MB 1.6 MB/s eta 0:00:23\n",
      "   ----- ---------------------------------- 5.5/42.3 MB 1.6 MB/s eta 0:00:23\n",
      "   ----- ---------------------------------- 6.0/42.3 MB 1.5 MB/s eta 0:00:24\n",
      "   ----- ---------------------------------- 6.3/42.3 MB 1.6 MB/s eta 0:00:24\n",
      "   ------ --------------------------------- 6.6/42.3 MB 1.6 MB/s eta 0:00:23\n",
      "   ------ --------------------------------- 6.8/42.3 MB 1.5 MB/s eta 0:00:23\n",
      "   ------ --------------------------------- 7.3/42.3 MB 1.6 MB/s eta 0:00:23\n",
      "   ------- -------------------------------- 7.6/42.3 MB 1.6 MB/s eta 0:00:23\n",
      "   ------- -------------------------------- 8.1/42.3 MB 1.6 MB/s eta 0:00:22\n",
      "   ------- -------------------------------- 8.4/42.3 MB 1.6 MB/s eta 0:00:22\n",
      "   -------- ------------------------------- 8.9/42.3 MB 1.6 MB/s eta 0:00:21\n",
      "   -------- ------------------------------- 9.2/42.3 MB 1.6 MB/s eta 0:00:21\n",
      "   -------- ------------------------------- 9.4/42.3 MB 1.6 MB/s eta 0:00:21\n",
      "   --------- ------------------------------ 10.0/42.3 MB 1.6 MB/s eta 0:00:20\n",
      "   --------- ------------------------------ 10.2/42.3 MB 1.6 MB/s eta 0:00:20\n",
      "   ---------- ----------------------------- 10.7/42.3 MB 1.6 MB/s eta 0:00:20\n",
      "   ---------- ----------------------------- 11.0/42.3 MB 1.6 MB/s eta 0:00:20\n",
      "   ---------- ----------------------------- 11.5/42.3 MB 1.7 MB/s eta 0:00:19\n",
      "   ----------- ---------------------------- 11.8/42.3 MB 1.7 MB/s eta 0:00:19\n",
      "   ----------- ---------------------------- 12.3/42.3 MB 1.7 MB/s eta 0:00:19\n",
      "   ----------- ---------------------------- 12.6/42.3 MB 1.7 MB/s eta 0:00:18\n",
      "   ------------ --------------------------- 13.1/42.3 MB 1.7 MB/s eta 0:00:18\n",
      "   ------------ --------------------------- 13.4/42.3 MB 1.7 MB/s eta 0:00:18\n",
      "   ------------- -------------------------- 13.9/42.3 MB 1.7 MB/s eta 0:00:17\n",
      "   ------------- -------------------------- 14.2/42.3 MB 1.7 MB/s eta 0:00:17\n",
      "   ------------- -------------------------- 14.7/42.3 MB 1.7 MB/s eta 0:00:17\n",
      "   -------------- ------------------------- 14.9/42.3 MB 1.7 MB/s eta 0:00:17\n",
      "   -------------- ------------------------- 15.5/42.3 MB 1.7 MB/s eta 0:00:16\n",
      "   -------------- ------------------------- 15.7/42.3 MB 1.7 MB/s eta 0:00:16\n",
      "   --------------- ------------------------ 16.3/42.3 MB 1.7 MB/s eta 0:00:16\n",
      "   --------------- ------------------------ 16.5/42.3 MB 1.7 MB/s eta 0:00:16\n",
      "   --------------- ------------------------ 16.8/42.3 MB 1.7 MB/s eta 0:00:15\n",
      "   ---------------- ----------------------- 17.3/42.3 MB 1.7 MB/s eta 0:00:15\n",
      "   ---------------- ----------------------- 17.6/42.3 MB 1.7 MB/s eta 0:00:15\n",
      "   ----------------- ---------------------- 18.1/42.3 MB 1.7 MB/s eta 0:00:15\n",
      "   ----------------- ---------------------- 18.4/42.3 MB 1.7 MB/s eta 0:00:14\n",
      "   ----------------- ---------------------- 18.9/42.3 MB 1.7 MB/s eta 0:00:14\n",
      "   ------------------ --------------------- 19.1/42.3 MB 1.7 MB/s eta 0:00:14\n",
      "   ------------------ --------------------- 19.7/42.3 MB 1.7 MB/s eta 0:00:14\n",
      "   ------------------ --------------------- 19.9/42.3 MB 1.7 MB/s eta 0:00:13\n",
      "   ------------------- -------------------- 20.4/42.3 MB 1.7 MB/s eta 0:00:13\n",
      "   ------------------- -------------------- 20.7/42.3 MB 1.7 MB/s eta 0:00:13\n",
      "   -------------------- ------------------- 21.2/42.3 MB 1.7 MB/s eta 0:00:13\n",
      "   -------------------- ------------------- 21.5/42.3 MB 1.7 MB/s eta 0:00:12\n",
      "   -------------------- ------------------- 21.8/42.3 MB 1.7 MB/s eta 0:00:12\n",
      "   --------------------- ------------------ 22.3/42.3 MB 1.7 MB/s eta 0:00:12\n",
      "   --------------------- ------------------ 22.5/42.3 MB 1.7 MB/s eta 0:00:12\n",
      "   --------------------- ------------------ 23.1/42.3 MB 1.7 MB/s eta 0:00:12\n",
      "   ---------------------- ----------------- 23.3/42.3 MB 1.7 MB/s eta 0:00:11\n",
      "   ---------------------- ----------------- 23.9/42.3 MB 1.8 MB/s eta 0:00:11\n",
      "   ---------------------- ----------------- 24.1/42.3 MB 1.8 MB/s eta 0:00:11\n",
      "   ----------------------- ---------------- 24.6/42.3 MB 1.8 MB/s eta 0:00:11\n",
      "   ----------------------- ---------------- 24.9/42.3 MB 1.8 MB/s eta 0:00:10\n",
      "   ----------------------- ---------------- 25.2/42.3 MB 1.8 MB/s eta 0:00:10\n",
      "   ------------------------ --------------- 25.4/42.3 MB 1.7 MB/s eta 0:00:10\n",
      "   ------------------------ --------------- 26.0/42.3 MB 1.7 MB/s eta 0:00:10\n",
      "   ------------------------ --------------- 26.2/42.3 MB 1.7 MB/s eta 0:00:10\n",
      "   ------------------------- -------------- 26.7/42.3 MB 1.8 MB/s eta 0:00:09\n",
      "   ------------------------- -------------- 27.0/42.3 MB 1.7 MB/s eta 0:00:09\n",
      "   -------------------------- ------------- 27.5/42.3 MB 1.8 MB/s eta 0:00:09\n",
      "   -------------------------- ------------- 27.8/42.3 MB 1.7 MB/s eta 0:00:09\n",
      "   -------------------------- ------------- 28.3/42.3 MB 1.8 MB/s eta 0:00:08\n",
      "   --------------------------- ------------ 28.6/42.3 MB 1.8 MB/s eta 0:00:08\n",
      "   --------------------------- ------------ 29.1/42.3 MB 1.8 MB/s eta 0:00:08\n",
      "   --------------------------- ------------ 29.4/42.3 MB 1.8 MB/s eta 0:00:08\n",
      "   ---------------------------- ----------- 29.6/42.3 MB 1.8 MB/s eta 0:00:08\n",
      "   ---------------------------- ----------- 30.1/42.3 MB 1.8 MB/s eta 0:00:07\n",
      "   ---------------------------- ----------- 30.4/42.3 MB 1.8 MB/s eta 0:00:07\n",
      "   ----------------------------- ---------- 30.9/42.3 MB 1.8 MB/s eta 0:00:07\n",
      "   ----------------------------- ---------- 31.2/42.3 MB 1.8 MB/s eta 0:00:07\n",
      "   ----------------------------- ---------- 31.5/42.3 MB 1.8 MB/s eta 0:00:07\n",
      "   ------------------------------ --------- 32.0/42.3 MB 1.8 MB/s eta 0:00:06\n",
      "   ------------------------------ --------- 32.2/42.3 MB 1.8 MB/s eta 0:00:06\n",
      "   ------------------------------ --------- 32.8/42.3 MB 1.8 MB/s eta 0:00:06\n",
      "   ------------------------------- -------- 33.0/42.3 MB 1.8 MB/s eta 0:00:06\n",
      "   ------------------------------- -------- 33.6/42.3 MB 1.8 MB/s eta 0:00:05\n",
      "   ------------------------------- -------- 33.8/42.3 MB 1.8 MB/s eta 0:00:05\n",
      "   -------------------------------- ------- 34.3/42.3 MB 1.8 MB/s eta 0:00:05\n",
      "   -------------------------------- ------- 34.6/42.3 MB 1.8 MB/s eta 0:00:05\n",
      "   -------------------------------- ------- 34.9/42.3 MB 1.8 MB/s eta 0:00:05\n",
      "   --------------------------------- ------ 35.4/42.3 MB 1.8 MB/s eta 0:00:04\n",
      "   --------------------------------- ------ 35.7/42.3 MB 1.8 MB/s eta 0:00:04\n",
      "   ---------------------------------- ----- 36.2/42.3 MB 1.8 MB/s eta 0:00:04\n",
      "   ---------------------------------- ----- 36.4/42.3 MB 1.8 MB/s eta 0:00:04\n",
      "   ---------------------------------- ----- 36.4/42.3 MB 1.8 MB/s eta 0:00:04\n",
      "   ---------------------------------- ----- 36.7/42.3 MB 1.7 MB/s eta 0:00:04\n",
      "   ---------------------------------- ----- 37.0/42.3 MB 1.7 MB/s eta 0:00:04\n",
      "   ---------------------------------- ----- 37.0/42.3 MB 1.7 MB/s eta 0:00:04\n",
      "   ----------------------------------- ---- 37.2/42.3 MB 1.7 MB/s eta 0:00:03\n",
      "   ----------------------------------- ---- 37.2/42.3 MB 1.7 MB/s eta 0:00:03\n",
      "   ----------------------------------- ---- 37.2/42.3 MB 1.7 MB/s eta 0:00:03\n",
      "   ----------------------------------- ---- 37.2/42.3 MB 1.7 MB/s eta 0:00:03\n",
      "   ----------------------------------- ---- 37.2/42.3 MB 1.7 MB/s eta 0:00:03\n",
      "   ----------------------------------- ---- 37.5/42.3 MB 1.7 MB/s eta 0:00:03\n",
      "   ----------------------------------- ---- 37.7/42.3 MB 1.7 MB/s eta 0:00:03\n",
      "   ------------------------------------ --- 38.3/42.3 MB 1.7 MB/s eta 0:00:03\n",
      "   ------------------------------------ --- 38.8/42.3 MB 1.7 MB/s eta 0:00:03\n",
      "   ------------------------------------ --- 39.1/42.3 MB 1.7 MB/s eta 0:00:02\n",
      "   ------------------------------------- -- 39.3/42.3 MB 1.7 MB/s eta 0:00:02\n",
      "   ------------------------------------- -- 39.8/42.3 MB 1.7 MB/s eta 0:00:02\n",
      "   ------------------------------------- -- 40.1/42.3 MB 1.7 MB/s eta 0:00:02\n",
      "   -------------------------------------- - 40.4/42.3 MB 1.7 MB/s eta 0:00:02\n",
      "   -------------------------------------- - 40.9/42.3 MB 1.7 MB/s eta 0:00:01\n",
      "   -------------------------------------- - 41.2/42.3 MB 1.7 MB/s eta 0:00:01\n",
      "   ---------------------------------------  41.7/42.3 MB 1.7 MB/s eta 0:00:01\n",
      "   ---------------------------------------  41.9/42.3 MB 1.7 MB/s eta 0:00:01\n",
      "   ---------------------------------------  42.2/42.3 MB 1.7 MB/s eta 0:00:01\n",
      "   ---------------------------------------- 42.3/42.3 MB 1.6 MB/s eta 0:00:00\n",
      "Downloading gradio_client-1.4.0-py3-none-any.whl (319 kB)\n",
      "Downloading tomlkit-0.12.0-py3-none-any.whl (37 kB)\n",
      "Downloading aiofiles-23.2.1-py3-none-any.whl (15 kB)\n",
      "Downloading fastapi-0.115.2-py3-none-any.whl (94 kB)\n",
      "Downloading orjson-3.10.9-cp312-none-win_amd64.whl (139 kB)\n",
      "Downloading pydantic-2.9.2-py3-none-any.whl (434 kB)\n",
      "Downloading pydantic_core-2.23.4-cp312-none-win_amd64.whl (1.9 MB)\n",
      "   ---------------------------------------- 0.0/1.9 MB ? eta -:--:--\n",
      "   ----- ---------------------------------- 0.3/1.9 MB ? eta -:--:--\n",
      "   ---------- ----------------------------- 0.5/1.9 MB 1.9 MB/s eta 0:00:01\n",
      "   ---------------- ----------------------- 0.8/1.9 MB 1.7 MB/s eta 0:00:01\n",
      "   --------------------------- ------------ 1.3/1.9 MB 1.7 MB/s eta 0:00:01\n",
      "   --------------------------- ------------ 1.3/1.9 MB 1.7 MB/s eta 0:00:01\n",
      "   -------------------------------- ------- 1.6/1.9 MB 1.4 MB/s eta 0:00:01\n",
      "   ---------------------------------------- 1.9/1.9 MB 1.5 MB/s eta 0:00:00\n",
      "Downloading python_multipart-0.0.12-py3-none-any.whl (23 kB)\n",
      "Downloading ruff-0.7.0-py3-none-win_amd64.whl (9.4 MB)\n",
      "   ---------------------------------------- 0.0/9.4 MB ? eta -:--:--\n",
      "   - -------------------------------------- 0.3/9.4 MB ? eta -:--:--\n",
      "   -- ------------------------------------- 0.5/9.4 MB 1.5 MB/s eta 0:00:06\n",
      "   --- ------------------------------------ 0.8/9.4 MB 1.8 MB/s eta 0:00:05\n",
      "   ----- ---------------------------------- 1.3/9.4 MB 1.7 MB/s eta 0:00:05\n",
      "   ------ --------------------------------- 1.6/9.4 MB 1.7 MB/s eta 0:00:05\n",
      "   -------- ------------------------------- 2.1/9.4 MB 1.7 MB/s eta 0:00:05\n",
      "   ---------- ----------------------------- 2.4/9.4 MB 1.8 MB/s eta 0:00:04\n",
      "   ----------- ---------------------------- 2.6/9.4 MB 1.8 MB/s eta 0:00:04\n",
      "   ------------- -------------------------- 3.1/9.4 MB 1.7 MB/s eta 0:00:04\n",
      "   -------------- ------------------------- 3.4/9.4 MB 1.7 MB/s eta 0:00:04\n",
      "   --------------- ------------------------ 3.7/9.4 MB 1.6 MB/s eta 0:00:04\n",
      "   --------------- ------------------------ 3.7/9.4 MB 1.6 MB/s eta 0:00:04\n",
      "   ---------------- ----------------------- 3.9/9.4 MB 1.5 MB/s eta 0:00:04\n",
      "   ------------------- -------------------- 4.5/9.4 MB 1.6 MB/s eta 0:00:04\n",
      "   -------------------- ------------------- 4.7/9.4 MB 1.6 MB/s eta 0:00:03\n",
      "   ---------------------- ----------------- 5.2/9.4 MB 1.6 MB/s eta 0:00:03\n",
      "   ---------------------- ----------------- 5.2/9.4 MB 1.6 MB/s eta 0:00:03\n",
      "   ----------------------- ---------------- 5.5/9.4 MB 1.5 MB/s eta 0:00:03\n",
      "   ------------------------ --------------- 5.8/9.4 MB 1.5 MB/s eta 0:00:03\n",
      "   ------------------------- -------------- 6.0/9.4 MB 1.5 MB/s eta 0:00:03\n",
      "   -------------------------- ------------- 6.3/9.4 MB 1.5 MB/s eta 0:00:03\n",
      "   --------------------------- ------------ 6.6/9.4 MB 1.5 MB/s eta 0:00:02\n",
      "   ----------------------------- ---------- 6.8/9.4 MB 1.4 MB/s eta 0:00:02\n",
      "   ----------------------------- ---------- 6.8/9.4 MB 1.4 MB/s eta 0:00:02\n",
      "   ------------------------------- -------- 7.3/9.4 MB 1.4 MB/s eta 0:00:02\n",
      "   -------------------------------- ------- 7.6/9.4 MB 1.4 MB/s eta 0:00:02\n",
      "   ---------------------------------- ----- 8.1/9.4 MB 1.5 MB/s eta 0:00:01\n",
      "   ----------------------------------- ---- 8.4/9.4 MB 1.5 MB/s eta 0:00:01\n",
      "   ------------------------------------ --- 8.7/9.4 MB 1.5 MB/s eta 0:00:01\n",
      "   ---------------------------------------  9.2/9.4 MB 1.5 MB/s eta 0:00:01\n",
      "   ---------------------------------------- 9.4/9.4 MB 1.5 MB/s eta 0:00:00\n",
      "Downloading semantic_version-2.10.0-py2.py3-none-any.whl (15 kB)\n",
      "Downloading typer-0.12.5-py3-none-any.whl (47 kB)\n",
      "Downloading uvicorn-0.32.0-py3-none-any.whl (63 kB)\n",
      "Downloading ffmpy-0.4.0-py3-none-any.whl (5.8 kB)\n",
      "Downloading pydub-0.25.1-py2.py3-none-any.whl (32 kB)\n",
      "Downloading annotated_types-0.7.0-py3-none-any.whl (13 kB)\n",
      "Downloading rich-13.9.2-py3-none-any.whl (242 kB)\n",
      "Downloading shellingham-1.5.4-py2.py3-none-any.whl (9.8 kB)\n",
      "Downloading starlette-0.40.0-py3-none-any.whl (73 kB)\n",
      "Downloading websockets-12.0-cp312-cp312-win_amd64.whl (124 kB)\n",
      "Downloading markdown_it_py-3.0.0-py3-none-any.whl (87 kB)\n",
      "Downloading mdurl-0.1.2-py3-none-any.whl (10.0 kB)\n",
      "Installing collected packages: pydub, websockets, tomlkit, shellingham, semantic-version, ruff, python-multipart, pydantic-core, orjson, mdurl, ffmpy, annotated-types, aiofiles, uvicorn, starlette, pydantic, markdown-it-py, rich, gradio-client, fastapi, typer, gradio\n",
      "Successfully installed aiofiles-23.2.1 annotated-types-0.7.0 fastapi-0.115.2 ffmpy-0.4.0 gradio-5.1.0 gradio-client-1.4.0 markdown-it-py-3.0.0 mdurl-0.1.2 orjson-3.10.9 pydantic-2.9.2 pydantic-core-2.23.4 pydub-0.25.1 python-multipart-0.0.12 rich-13.9.2 ruff-0.7.0 semantic-version-2.10.0 shellingham-1.5.4 starlette-0.40.0 tomlkit-0.12.0 typer-0.12.5 uvicorn-0.32.0 websockets-12.0\n"
     ]
    }
   ],
   "source": [
    "!pip install gradio"
   ]
  },
  {
   "cell_type": "code",
   "execution_count": 27,
   "id": "79d4cb31-110e-4a47-aa77-73e9b8a3c76a",
   "metadata": {},
   "outputs": [],
   "source": [
    "import gradio as gr"
   ]
  },
  {
   "cell_type": "code",
   "execution_count": 28,
   "id": "d6a28679-00e4-4aee-a2f3-574675e50a8c",
   "metadata": {},
   "outputs": [],
   "source": [
    "def search(query):\n",
    "    query_embedding = model.encode([query])\n",
    "    similarity_scores = cosine_similarity(query_embedding, course_embeddings)\n",
    "    most_similar_idx = np.argmax(similarity_scores)\n",
    "    return courses[most_similar_idx]['title']"
   ]
  },
  {
   "cell_type": "code",
   "execution_count": 29,
   "id": "16de4f51-d0d3-481a-aad5-40f02d9fc59b",
   "metadata": {},
   "outputs": [],
   "source": [
    "interface = gr.Interface(fn=search, inputs=\"text\", outputs=\"text\", title=\"Smart Course Search\")"
   ]
  },
  {
   "cell_type": "code",
   "execution_count": 30,
   "id": "25d69079-45e9-4cc2-b1bb-44e77cab3398",
   "metadata": {},
   "outputs": [
    {
     "name": "stdout",
     "output_type": "stream",
     "text": [
      "* Running on local URL:  http://127.0.0.1:7860\n",
      "\n",
      "To create a public link, set `share=True` in `launch()`.\n"
     ]
    },
    {
     "data": {
      "text/html": [
       "<div><iframe src=\"http://127.0.0.1:7860/\" width=\"100%\" height=\"500\" allow=\"autoplay; camera; microphone; clipboard-read; clipboard-write;\" frameborder=\"0\" allowfullscreen></iframe></div>"
      ],
      "text/plain": [
       "<IPython.core.display.HTML object>"
      ]
     },
     "metadata": {},
     "output_type": "display_data"
    },
    {
     "data": {
      "text/plain": []
     },
     "execution_count": 30,
     "metadata": {},
     "output_type": "execute_result"
    }
   ],
   "source": [
    "interface.launch()"
   ]
  }
 ],
 "metadata": {
  "kernelspec": {
   "display_name": "Python 3 (ipykernel)",
   "language": "python",
   "name": "python3"
  },
  "language_info": {
   "codemirror_mode": {
    "name": "ipython",
    "version": 3
   },
   "file_extension": ".py",
   "mimetype": "text/x-python",
   "name": "python",
   "nbconvert_exporter": "python",
   "pygments_lexer": "ipython3",
   "version": "3.12.6"
  }
 },
 "nbformat": 4,
 "nbformat_minor": 5
}
